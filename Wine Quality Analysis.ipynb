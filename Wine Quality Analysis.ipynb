{
 "cells": [
  {
   "cell_type": "markdown",
   "metadata": {},
   "source": [
    "# Wine Quality Analysis\n",
    "Can we predict the quality of Portuguese \"Vinho Verde\" wine? (score: 0-10)\n",
    "\n",
    "Data Source: \n",
    "P. Cortez, A. Cerdeira, F. Almeida, T. Matos and J. Reis. \n",
    "Modeling wine preferences by data mining from physicochemical properties. In Decision Support Systems, Elsevier, 47(4):547-553, 2009."
   ]
  },
  {
   "cell_type": "code",
   "execution_count": 1,
   "metadata": {},
   "outputs": [],
   "source": [
    "import pandas as pd\n",
    "import statsmodels.api as sm\n",
    "import matplotlib.pyplot as plt\n",
    "from sklearn.feature_selection import RFE\n",
    "from sklearn.preprocessing import StandardScaler, LabelEncoder\n",
    "from sklearn.metrics import classification_report\n",
    "from sklearn.ensemble import RandomForestClassifier\n",
    "from sklearn.model_selection import train_test_split\n",
    "from sklearn.linear_model import LogisticRegression, LinearRegression"
   ]
  },
  {
   "cell_type": "code",
   "execution_count": 2,
   "metadata": {},
   "outputs": [],
   "source": [
    "df = pd.read_csv('winequality-red.csv')"
   ]
  },
  {
   "cell_type": "code",
   "execution_count": 3,
   "metadata": {},
   "outputs": [
    {
     "name": "stdout",
     "output_type": "stream",
     "text": [
      "Red Wine Mean Rating: 5.6360225140712945\n"
     ]
    },
    {
     "data": {
      "image/png": "[encoded data removed]",
      "text/plain": [
       "<matplotlib.figure.Figure at 0x10e7e09e8>"
      ]
     },
     "metadata": {},
     "output_type": "display_data"
    }
   ],
   "source": [
    "# Histogram of Quality\n",
    "plt.hist(df['quality'])\n",
    "\n",
    "print('Red Wine Mean Rating:', df['quality'].mean())\n",
    "# we see very few red wines of high/low quality"
   ]
  },
  {
   "cell_type": "code",
   "execution_count": 4,
   "metadata": {},
   "outputs": [],
   "source": [
    "# Categorize quality into good/bad bins -> outliers will fall in good/bad \n",
    "bins = (1, 5.5, 8)\n",
    "categories = ['bad', 'good']\n",
    "df['quality'] = pd.cut(df['quality'], bins=bins, labels=categories)"
   ]
  },
  {
   "cell_type": "code",
   "execution_count": 5,
   "metadata": {},
   "outputs": [],
   "source": [
    "quality_category = LabelEncoder()"
   ]
  },
  {
   "cell_type": "code",
   "execution_count": 6,
   "metadata": {},
   "outputs": [],
   "source": [
    "# Categories have binary labels (0=bad, 1=good)\n",
    "df['quality'] = quality_category.fit_transform(df['quality'])"
   ]
  },
  {
   "cell_type": "code",
   "execution_count": 7,
   "metadata": {},
   "outputs": [],
   "source": [
    "# Separate predictors from response\n",
    "X = df.iloc[:,:11]\n",
    "y = df.iloc[:,11]"
   ]
  },
  {
   "cell_type": "markdown",
   "metadata": {},
   "source": [
    "Feature Selection- Recursive Feature Elimination\n",
    "Recursively remove attributes, and build model on remaining attributes. Model's accuracy will identify which attributes contribute most to predicting the target."
   ]
  },
  {
   "cell_type": "code",
   "execution_count": 8,
   "metadata": {},
   "outputs": [],
   "source": [
    "# Base classifier used to evaluate subset of attributes\n",
    "estimator = LogisticRegression()"
   ]
  },
  {
   "cell_type": "code",
   "execution_count": 9,
   "metadata": {},
   "outputs": [],
   "source": [
    "# RFE Feature Selection\n",
    "# selecting 9 attributes removes multicollinearity problem\n",
    "selector = RFE(estimator, 9) \n",
    "selector = selector.fit(X, y)"
   ]
  },
  {
   "cell_type": "code",
   "execution_count": 10,
   "metadata": {},
   "outputs": [
    {
     "name": "stdout",
     "output_type": "stream",
     "text": [
      "[False  True  True  True  True  True False  True  True  True  True]\n",
      "[3 1 1 1 1 1 2 1 1 1 1]\n"
     ]
    }
   ],
   "source": [
    "# selected (best) features are assigned rank 1\n",
    "print(selector.support_)\n",
    "print(selector.ranking_)"
   ]
  },
  {
   "cell_type": "code",
   "execution_count": 11,
   "metadata": {},
   "outputs": [],
   "source": [
    "# Keep features at indexes that are 1\n",
    "feature_list = []\n",
    "for i in range(len(selector.ranking_)):\n",
    "    if selector.ranking_[i] == 1:\n",
    "        feature_list.append(i)\n",
    "\n",
    "X = X.iloc[:, feature_list]"
   ]
  },
  {
   "cell_type": "code",
   "execution_count": 12,
   "metadata": {},
   "outputs": [
    {
     "data": {
      "text/html": [
       "<table class=\"simpletable\">\n",
       "<caption>OLS Regression Results</caption>\n",
       "<tr>\n",
       "  <th>Dep. Variable:</th>         <td>quality</td>     <th>  R-squared:         </th> <td>   0.661</td>\n",
       "</tr>\n",
       "<tr>\n",
       "  <th>Model:</th>                   <td>OLS</td>       <th>  Adj. R-squared:    </th> <td>   0.659</td>\n",
       "</tr>\n",
       "<tr>\n",
       "  <th>Method:</th>             <td>Least Squares</td>  <th>  F-statistic:       </th> <td>   343.9</td>\n",
       "</tr>\n",
       "<tr>\n",
       "  <th>Date:</th>             <td>Tue, 02 Oct 2018</td> <th>  Prob (F-statistic):</th>  <td>  0.00</td> \n",
       "</tr>\n",
       "<tr>\n",
       "  <th>Time:</th>                 <td>23:27:26</td>     <th>  Log-Likelihood:    </th> <td> -904.45</td>\n",
       "</tr>\n",
       "<tr>\n",
       "  <th>No. Observations:</th>      <td>  1599</td>      <th>  AIC:               </th> <td>   1827.</td>\n",
       "</tr>\n",
       "<tr>\n",
       "  <th>Df Residuals:</th>          <td>  1590</td>      <th>  BIC:               </th> <td>   1875.</td>\n",
       "</tr>\n",
       "<tr>\n",
       "  <th>Df Model:</th>              <td>     9</td>      <th>                     </th>     <td> </td>   \n",
       "</tr>\n",
       "<tr>\n",
       "  <th>Covariance Type:</th>      <td>nonrobust</td>    <th>                     </th>     <td> </td>   \n",
       "</tr>\n",
       "</table>\n",
       "<table class=\"simpletable\">\n",
       "<tr>\n",
       "           <td></td>              <th>coef</th>     <th>std err</th>      <th>t</th>      <th>P>|t|</th>  <th>[0.025</th>    <th>0.975]</th>  \n",
       "</tr>\n",
       "<tr>\n",
       "  <th>volatile acidity</th>    <td>   -0.6375</td> <td>    0.076</td> <td>   -8.413</td> <td> 0.000</td> <td>   -0.786</td> <td>   -0.489</td>\n",
       "</tr>\n",
       "<tr>\n",
       "  <th>citric acid</th>         <td>   -0.1945</td> <td>    0.081</td> <td>   -2.403</td> <td> 0.016</td> <td>   -0.353</td> <td>   -0.036</td>\n",
       "</tr>\n",
       "<tr>\n",
       "  <th>residual sugar</th>      <td>    0.0007</td> <td>    0.008</td> <td>    0.087</td> <td> 0.931</td> <td>   -0.015</td> <td>    0.016</td>\n",
       "</tr>\n",
       "<tr>\n",
       "  <th>chlorides</th>           <td>   -0.7771</td> <td>    0.265</td> <td>   -2.932</td> <td> 0.003</td> <td>   -1.297</td> <td>   -0.257</td>\n",
       "</tr>\n",
       "<tr>\n",
       "  <th>free sulfur dioxide</th> <td>   -0.0023</td> <td>    0.001</td> <td>   -2.171</td> <td> 0.030</td> <td>   -0.004</td> <td>   -0.000</td>\n",
       "</tr>\n",
       "<tr>\n",
       "  <th>density</th>             <td>   -0.5527</td> <td>    0.302</td> <td>   -1.832</td> <td> 0.067</td> <td>   -1.144</td> <td>    0.039</td>\n",
       "</tr>\n",
       "<tr>\n",
       "  <th>pH</th>                  <td>   -0.1675</td> <td>    0.088</td> <td>   -1.908</td> <td> 0.057</td> <td>   -0.340</td> <td>    0.005</td>\n",
       "</tr>\n",
       "<tr>\n",
       "  <th>sulphates</th>           <td>    0.4916</td> <td>    0.073</td> <td>    6.748</td> <td> 0.000</td> <td>    0.349</td> <td>    0.634</td>\n",
       "</tr>\n",
       "<tr>\n",
       "  <th>alcohol</th>             <td>    0.1735</td> <td>    0.011</td> <td>   15.631</td> <td> 0.000</td> <td>    0.152</td> <td>    0.195</td>\n",
       "</tr>\n",
       "</table>\n",
       "<table class=\"simpletable\">\n",
       "<tr>\n",
       "  <th>Omnibus:</th>       <td>337.089</td> <th>  Durbin-Watson:     </th> <td>   1.725</td>\n",
       "</tr>\n",
       "<tr>\n",
       "  <th>Prob(Omnibus):</th> <td> 0.000</td>  <th>  Jarque-Bera (JB):  </th> <td>  65.967</td>\n",
       "</tr>\n",
       "<tr>\n",
       "  <th>Skew:</th>          <td> 0.038</td>  <th>  Prob(JB):          </th> <td>4.74e-15</td>\n",
       "</tr>\n",
       "<tr>\n",
       "  <th>Kurtosis:</th>      <td> 2.008</td>  <th>  Cond. No.          </th> <td>    644.</td>\n",
       "</tr>\n",
       "</table><br/><br/>Warnings:<br/>[1] Standard Errors assume that the covariance matrix of the errors is correctly specified."
      ],
      "text/plain": [
       "<class 'statsmodels.iolib.summary.Summary'>\n",
       "\"\"\"\n",
       "                            OLS Regression Results                            \n",
       "==============================================================================\n",
       "Dep. Variable:                quality   R-squared:                       0.661\n",
       "Model:                            OLS   Adj. R-squared:                  0.659\n",
       "Method:                 Least Squares   F-statistic:                     343.9\n",
       "Date:                Tue, 02 Oct 2018   Prob (F-statistic):               0.00\n",
       "Time:                        23:27:26   Log-Likelihood:                -904.45\n",
       "No. Observations:                1599   AIC:                             1827.\n",
       "Df Residuals:                    1590   BIC:                             1875.\n",
       "Df Model:                           9                                         \n",
       "Covariance Type:            nonrobust                                         \n",
       "=======================================================================================\n",
       "                          coef    std err          t      P>|t|      [0.025      0.975]\n",
       "---------------------------------------------------------------------------------------\n",
       "volatile acidity       -0.6375      0.076     -8.413      0.000      -0.786      -0.489\n",
       "citric acid            -0.1945      0.081     -2.403      0.016      -0.353      -0.036\n",
       "residual sugar          0.0007      0.008      0.087      0.931      -0.015       0.016\n",
       "chlorides              -0.7771      0.265     -2.932      0.003      -1.297      -0.257\n",
       "free sulfur dioxide    -0.0023      0.001     -2.171      0.030      -0.004      -0.000\n",
       "density                -0.5527      0.302     -1.832      0.067      -1.144       0.039\n",
       "pH                     -0.1675      0.088     -1.908      0.057      -0.340       0.005\n",
       "sulphates               0.4916      0.073      6.748      0.000       0.349       0.634\n",
       "alcohol                 0.1735      0.011     15.631      0.000       0.152       0.195\n",
       "==============================================================================\n",
       "Omnibus:                      337.089   Durbin-Watson:                   1.725\n",
       "Prob(Omnibus):                  0.000   Jarque-Bera (JB):               65.967\n",
       "Skew:                           0.038   Prob(JB):                     4.74e-15\n",
       "Kurtosis:                       2.008   Cond. No.                         644.\n",
       "==============================================================================\n",
       "\n",
       "Warnings:\n",
       "[1] Standard Errors assume that the covariance matrix of the errors is correctly specified.\n",
       "\"\"\""
      ]
     },
     "execution_count": 12,
     "metadata": {},
     "output_type": "execute_result"
    }
   ],
   "source": [
    "# Multiple Linear Regression\n",
    "model = sm.OLS(y, X).fit()\n",
    "predictions = model.predict(X)\n",
    "model.summary()"
   ]
  },
  {
   "cell_type": "markdown",
   "metadata": {},
   "source": [
    "From R-squared, we see that the model explains 66.1% of the variance of the dependent variable (quality).\n",
    "\n",
    "As volatile acidity increases by 1, quality decreases by 0.6375. \n",
    "etc..."
   ]
  },
  {
   "cell_type": "code",
   "execution_count": 13,
   "metadata": {},
   "outputs": [],
   "source": [
    "# Split red/white datasets into train/test data\n",
    "X_train, X_test, y_train, y_test = train_test_split(X, y, test_size=0.2)"
   ]
  },
  {
   "cell_type": "code",
   "execution_count": 14,
   "metadata": {},
   "outputs": [],
   "source": [
    "# Scale values -> better understood by ML algorithms\n",
    "sc = StandardScaler()\n",
    "X_train = sc.fit_transform(X_train)\n",
    "X_test = sc.fit_transform(X_test)"
   ]
  },
  {
   "cell_type": "code",
   "execution_count": 15,
   "metadata": {},
   "outputs": [],
   "source": [
    "# From sklearn- Linear Regression\n",
    "linModel = LinearRegression()\n",
    "linModel = linModel.fit(X_train, y_train)\n",
    "linPredictions = linModel.predict(X_test)"
   ]
  },
  {
   "cell_type": "code",
   "execution_count": 16,
   "metadata": {},
   "outputs": [
    {
     "name": "stdout",
     "output_type": "stream",
     "text": [
      "Score:  0.2054235186198623\n"
     ]
    }
   ],
   "source": [
    "print(\"Score: \", linModel.score(X_test, y_test))"
   ]
  },
  {
   "cell_type": "code",
   "execution_count": 17,
   "metadata": {},
   "outputs": [
    {
     "name": "stdout",
     "output_type": "stream",
     "text": [
      "             precision    recall  f1-score   support\n",
      "\n",
      "          0       0.69      0.76      0.73       134\n",
      "          1       0.82      0.76      0.79       186\n",
      "\n",
      "avg / total       0.76      0.76      0.76       320\n",
      "\n"
     ]
    }
   ],
   "source": [
    "# From sklearn- Random Forest Classifier\n",
    "rfc = RandomForestClassifier(n_estimators=200)\n",
    "rfc.fit(X_train, y_train)\n",
    "pred_rfc = rfc.predict(X_test)\n",
    "print(classification_report(y_test, pred_rfc))"
   ]
  },
  {
   "cell_type": "markdown",
   "metadata": {},
   "source": [
    "Based on these two models, we see that Random Forest Classification (81%) does much better than Multiple Linear Regression (28.59%) at predicting wine quality. "
   ]
  }
 ],
 "metadata": {
  "kernelspec": {
   "display_name": "Python 3",
   "language": "python",
   "name": "python3"
  },
  "language_info": {
   "codemirror_mode": {
    "name": "ipython",
    "version": 3
   },
   "file_extension": ".py",
   "mimetype": "text/x-python",
   "name": "python",
   "nbconvert_exporter": "python",
   "pygments_lexer": "ipython3",
   "version": "3.6.4"
  }
 },
 "nbformat": 4,
 "nbformat_minor": 2
}
